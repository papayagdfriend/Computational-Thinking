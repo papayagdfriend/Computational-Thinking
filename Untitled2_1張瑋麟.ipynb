{
  "nbformat": 4,
  "nbformat_minor": 0,
  "metadata": {
    "colab": {
      "name": "Untitled2-1張瑋麟.ipynb",
      "provenance": [],
      "authorship_tag": "ABX9TyOfueNJxYIzi1BjNoZNmyDT",
      "include_colab_link": true
    },
    "kernelspec": {
      "name": "python3",
      "display_name": "Python 3"
    }
  },
  "cells": [
    {
      "cell_type": "markdown",
      "metadata": {
        "id": "view-in-github",
        "colab_type": "text"
      },
      "source": [
        "<a href=\"https://colab.research.google.com/github/papayagdfriend/Computational-Thinking/blob/master/Untitled2_1%E5%BC%B5%E7%91%8B%E9%BA%9F.ipynb\" target=\"_parent\"><img src=\"https://colab.research.google.com/assets/colab-badge.svg\" alt=\"Open In Colab\"/></a>"
      ]
    },
    {
      "cell_type": "code",
      "metadata": {
        "colab": {
          "base_uri": "https://localhost:8080/"
        },
        "id": "19ivgsm6fR43",
        "outputId": "cbd178ef-0e34-47e1-d523-b7ba27a23b99"
      },
      "source": [
        "time = 310\n",
        "hour = time // 60 # 商數\n",
        "minute = time % 60 # 餘數\n",
        "\n",
        "print(time, \"是\", hour, \"小時\", minute, \"分鐘\")\n",
        "\n",
        "hour1 = int (time / 60)\n",
        "minute1 = ((time / 60) - hour1) * 60\n",
        "minute1 = round(minute1)\n",
        "print(time, \"是\", hour1, \"小時\", minute1, \"分鐘\")"
      ],
      "execution_count": 13,
      "outputs": [
        {
          "output_type": "stream",
          "text": [
            "310 是 5 小時 10 分鐘\n",
            "310 是 5 小時 10 分鐘\n"
          ],
          "name": "stdout"
        }
      ]
    },
    {
      "cell_type": "code",
      "metadata": {
        "id": "Tir4-sfRjDF_"
      },
      "source": [
        ""
      ],
      "execution_count": null,
      "outputs": []
    }
  ]
}